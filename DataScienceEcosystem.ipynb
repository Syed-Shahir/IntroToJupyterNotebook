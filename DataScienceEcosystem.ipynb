{
 "cells": [
  {
   "cell_type": "markdown",
   "id": "615b1e5a",
   "metadata": {},
   "source": [
    "# Data Science and Ecosystem"
   ]
  },
  {
   "cell_type": "markdown",
   "id": "57272f53",
   "metadata": {},
   "source": [
    "**In This Notebook Data Science Tools and Ecosystem are summarized**, we will practice the concepts that we have learned in this **Tools for Data Science** Course"
   ]
  },
  {
   "cell_type": "markdown",
   "id": "a92dad4e",
   "metadata": {},
   "source": [
    "**Objectives**  \n",
    "The objectives of this lab are as follows :  \n",
    "+ Common Languages for Data Science\n",
    "+ Useful Libraries in Data Science\n",
    "+ Data Science Tools\n",
    "+ Arithmetic Operations in Python\n",
    "+ Code writing and Commenting"
   ]
  },
  {
   "cell_type": "markdown",
   "id": "5fdb5b64",
   "metadata": {},
   "source": [
    "some of the common languages that are used by Data Scientists are as follows:<br>\n",
    "    1.R  \n",
    "    2.Python  \n",
    "    3.MATLAB  "
   ]
  },
  {
   "cell_type": "markdown",
   "id": "186317e3",
   "metadata": {},
   "source": [
    "some of the common Data Science Libraries are :  \n",
    "1.Pandas  \"for data structures and other related tools to data\"  \n",
    "2.NumPy  \"consists of Arrays and Matrices , useful to deal with these two\"  \n",
    "3.Matplotlib \"it is used for plotting graphs\"  \n",
    "4.ggplot2 \"it is used for plotting purpose aswell in R language\"  \n",
    "5.Keras \"useful for deep learning on High level\"  \n",
    "6.Tensorflow \"useful for deep learning on Low level\"  "
   ]
  },
  {
   "cell_type": "markdown",
   "id": "f8144bdd",
   "metadata": {},
   "source": [
    "\n",
    "some of the common Data Science Tools are :  \n",
    "| Data Science Tools |\n",
    "| ------------------|\n",
    "| Jupyter Notebook |\n",
    "| Anaconda |\n",
    "| IBM Watson Studio |  \n"
   ]
  },
  {
   "cell_type": "markdown",
   "id": "d84a339f",
   "metadata": {},
   "source": [
    "### Arithmetic Operations in python\n",
    "Below are some of the basic examples of arithmetic operations in python:  "
   ]
  },
  {
   "cell_type": "code",
   "execution_count": 6,
   "id": "35635e37",
   "metadata": {},
   "outputs": [
    {
     "name": "stdout",
     "output_type": "stream",
     "text": [
      "enter value for variable 1 = 8\n",
      "enter value for variable 2 = 3\n",
      "addition is = 11.0\n",
      "subtraction is = 5.0\n",
      "multiplication is = 24.0\n",
      "division is = 2.67\n"
     ]
    }
   ],
   "source": [
    "var1 = float(input(\"enter value for variable 1 = \"))\n",
    "var2 = float(input(\"enter value for variable 2 = \"))\n",
    "add = var1 + var2\n",
    "sub = var1 - var2\n",
    "div = var1 / var2\n",
    "mul = var1 * var2\n",
    "print(f\"addition is = {add}\")\n",
    "print(f\"subtraction is = {sub}\")\n",
    "print(f\"multiplication is = {mul}\")\n",
    "print(f\"division is = {div:0.2f}\")"
   ]
  },
  {
   "cell_type": "code",
   "execution_count": 7,
   "id": "c1ad0f45",
   "metadata": {},
   "outputs": [
    {
     "data": {
      "text/plain": [
       "17"
      ]
     },
     "execution_count": 7,
     "metadata": {},
     "output_type": "execute_result"
    }
   ],
   "source": [
    "#this is simple example of multiplication and addition\n",
    "(3*4)+5"
   ]
  },
  {
   "cell_type": "code",
   "execution_count": 9,
   "id": "810f762b",
   "metadata": {},
   "outputs": [
    {
     "data": {
      "text/plain": [
       "3.3333333333333335"
      ]
     },
     "execution_count": 9,
     "metadata": {},
     "output_type": "execute_result"
    }
   ],
   "source": [
    "time_in_minutes = 200\n",
    "time_in_minutes/60"
   ]
  },
  {
   "cell_type": "markdown",
   "id": "64f18e72",
   "metadata": {},
   "source": [
    "## Author's Name : Laksmi Holla , Niveditha Pandith\n",
    "Student Name:Syed Muhammad Shahir Ul Haq"
   ]
  },
  {
   "cell_type": "code",
   "execution_count": null,
   "id": "451e7e0e",
   "metadata": {},
   "outputs": [],
   "source": []
  }
 ],
 "metadata": {
  "kernelspec": {
   "display_name": "Python 3 (ipykernel)",
   "language": "python",
   "name": "python3"
  },
  "language_info": {
   "codemirror_mode": {
    "name": "ipython",
    "version": 3
   },
   "file_extension": ".py",
   "mimetype": "text/x-python",
   "name": "python",
   "nbconvert_exporter": "python",
   "pygments_lexer": "ipython3",
   "version": "3.11.4"
  }
 },
 "nbformat": 4,
 "nbformat_minor": 5
}
